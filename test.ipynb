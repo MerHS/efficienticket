{
 "nbformat": 4,
 "nbformat_minor": 2,
 "metadata": {
  "language_info": {
   "name": "python",
   "codemirror_mode": {
    "name": "ipython",
    "version": 3
   },
   "version": "3.7.5"
  },
  "orig_nbformat": 2,
  "file_extension": ".py",
  "mimetype": "text/x-python",
  "name": "python",
  "npconvert_exporter": "python",
  "pygments_lexer": "ipython3",
  "version": 3
 },
 "cells": [
  {
   "cell_type": "code",
   "execution_count": 18,
   "metadata": {},
   "outputs": [],
   "source": [
    "import torch\n",
    "import torch.nn as nn\n",
    "import numpy as np"
   ]
  },
  {
   "cell_type": "code",
   "execution_count": 21,
   "metadata": {},
   "outputs": [
    {
     "name": "stdout",
     "output_type": "stream",
     "text": "tensor([ 0.0254,  0.1426,  0.4066,  0.2687, -0.4593, -0.1317,  0.4256,  0.4872,\n        -0.2949, -0.2564, -0.2900,  0.2853, -0.2731,  0.2827, -0.0155, -0.2112])\ntorch.return_types.sort(\nvalues=tensor([-0.4593, -0.2949, -0.2900, -0.2731, -0.2564, -0.2112, -0.1317, -0.0155,\n         0.0254,  0.1426,  0.2687,  0.2827,  0.2853,  0.4066,  0.4256,  0.4872]),\nindices=tensor([ 4,  8, 10, 12,  9, 15,  5, 14,  0,  1,  3, 13, 11,  2,  6,  7]))\n0.48724591732025146\n"
    }
   ],
   "source": [
    "m = nn.Conv2d(4, 4, 1)\n",
    "w = m.weight.data\n",
    "print(w.view(-1))\n",
    "print(torch.sort(w.view(-1)))\n",
    "print(np.percentile(w.view(-1).numpy(), 100))\n",
    "\n"
   ]
  },
  {
   "cell_type": "code",
   "execution_count": 14,
   "metadata": {},
   "outputs": [
    {
     "data": {
      "text/plain": "1.1529215046068484"
     },
     "execution_count": 14,
     "metadata": {},
     "output_type": "execute_result"
    }
   ],
   "source": [
    "100 * (0.8**20)"
   ]
  }
 ]
}